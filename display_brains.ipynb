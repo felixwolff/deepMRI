{
 "cells": [
  {
   "cell_type": "code",
   "execution_count": 3,
   "metadata": {},
   "outputs": [
    {
     "name": "stdout",
     "output_type": "stream",
     "text": [
      "number of subjects: 89\n",
      "\n"
     ]
    }
   ],
   "source": [
    "# diplays 3 brain slices per file\n",
    "# folder structure: preprocessed/116_S_0487/Baseline/INTERNAL_WARPED.nii.gz\n",
    "\n",
    "import os\n",
    "from nilearn import plotting\n",
    "import matplotlib.pyplot as plt\n",
    "\n",
    "\n",
    "path_to_dir = \"/analysis/share/ADNI/preprocessed/\"\n",
    "\n",
    "# get all subjectIDs in directory\n",
    "subjectID_list=os.listdir(path_to_dir)\n",
    "print('number of subjects: ' + str(len(subjectID_list))+ '\\n')\n",
    "\n",
    "filename = 'INTERNAL_WARPED.nii.gz'\n",
    "visit_types = ['Baseline','Month12','Month24']\n",
    "\n",
    "# slicing coordinats (x,y,z)\n",
    "coord = (4,0,0)\n",
    "\n",
    "# subject range\n",
    "start = 0\n",
    "stop = 1 #len(subjectID_list)\n",
    "\n",
    "for subjectID in subjectID_list[start:stop]:\n",
    "    for visit in visit_types:\n",
    "        print(subjectID + ' ' + visit)\n",
    "        \n",
    "        # path format: analysis/share/ADNI/preprocessed/116_S_0487/Baseline/INTERNAL_WARPED.nii.gz\n",
    "        complete_path = path_to_dir+subjectID+'/'+visit+'/'+filename\n",
    "        \n",
    "        # plot img\n",
    "        plotting.plot_img(complete_path,cut_coords =coord, draw_cross=False)\n",
    "        plt.show()\n",
    "    "
   ]
  }
 ],
 "metadata": {
  "kernelspec": {
   "display_name": "Python (myenv)",
   "language": "python",
   "name": "myenv"
  },
  "language_info": {
   "codemirror_mode": {
    "name": "ipython",
    "version": 3
   },
   "file_extension": ".py",
   "mimetype": "text/x-python",
   "name": "python",
   "nbconvert_exporter": "python",
   "pygments_lexer": "ipython3",
   "version": "3.6.4"
  }
 },
 "nbformat": 4,
 "nbformat_minor": 2
}
